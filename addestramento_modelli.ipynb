{
 "cells": [
  {
   "cell_type": "markdown",
   "id": "39c0c065",
   "metadata": {},
   "source": [
    "Modello 1"
   ]
  },
  {
   "cell_type": "code",
   "execution_count": null,
   "id": "92918e2b",
   "metadata": {},
   "outputs": [],
   "source": [
    "import xgboost as xgb\n",
    "from sklearn.ensemble import RandomForestClassifier\n",
    "from sklearn.metrics import classification_report, confusion_matrix"
   ]
  },
  {
   "cell_type": "code",
   "execution_count": null,
   "id": "9c5fc3ca",
   "metadata": {},
   "outputs": [],
   "source": [
    "# ============================\n",
    "# STEP 5: Modello - Random Forest\n",
    "# ============================\n",
    "rf = RandomForestClassifier(n_estimators=200, random_state=42)\n",
    "rf.fit(X_train, y_train)\n",
    "\n",
    "y_pred_rf = rf.predict(X_test)\n",
    "\n",
    "print(\"=== Random Forest Report ===\")\n",
    "print(classification_report(y_test, y_pred_rf))\n",
    "\n",
    "cm = confusion_matrix(y_test, y_pred_rf, labels=rf.classes_)\n",
    "sns.heatmap(cm, annot=True, fmt=\"d\", cmap=\"Blues\",\n",
    "            xticklabels=rf.classes_, yticklabels=rf.classes_)\n",
    "plt.title(\"Confusion Matrix - Random Forest\")\n",
    "plt.xlabel(\"Predicted\")\n",
    "plt.ylabel(\"True\")\n",
    "plt.show()\n"
   ]
  },
  {
   "cell_type": "markdown",
   "id": "76565cf6",
   "metadata": {},
   "source": [
    "Modello 2"
   ]
  },
  {
   "cell_type": "code",
   "execution_count": null,
   "id": "e7741277",
   "metadata": {},
   "outputs": [],
   "source": [
    "# ============================\n",
    "# STEP 6: Modello - XGBoost\n",
    "# ============================\n",
    "xgb_model = xgb.XGBClassifier(\n",
    "    n_estimators=300,\n",
    "    max_depth=6,\n",
    "    learning_rate=0.1,\n",
    "    subsample=0.8,\n",
    "    colsample_bytree=0.8,\n",
    "    random_state=42\n",
    ")\n",
    "\n",
    "xgb_model.fit(X_train, y_train)\n",
    "y_pred_xgb = xgb_model.predict(X_test)\n",
    "\n",
    "print(\"=== XGBoost Report ===\")\n",
    "print(classification_report(y_test, y_pred_xgb))\n",
    "\n",
    "cm = confusion_matrix(y_test, y_pred_xgb, labels=xgb_model.classes_)\n",
    "sns.heatmap(cm, annot=True, fmt=\"d\", cmap=\"Oranges\",\n",
    "            xticklabels=xgb_model.classes_, yticklabels=xgb_model.classes_)\n",
    "plt.title(\"Confusion Matrix - XGBoost\")\n",
    "plt.xlabel(\"Predicted\")\n",
    "plt.ylabel(\"True\")\n",
    "plt.show()\n"
   ]
  }
 ],
 "metadata": {
  "kernelspec": {
   "display_name": "zeek-ml",
   "language": "python",
   "name": "python3"
  },
  "language_info": {
   "name": "python",
   "version": "3.11.13"
  }
 },
 "nbformat": 4,
 "nbformat_minor": 5
}
