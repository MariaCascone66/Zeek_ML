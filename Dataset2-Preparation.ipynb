{
 "cells": [
  {
   "cell_type": "code",
   "execution_count": 10,
   "id": "0c24f49f",
   "metadata": {},
   "outputs": [
    {
     "name": "stderr",
     "output_type": "stream",
     "text": [
      "Processing files: 100%|██████████| 14/14 [02:02<00:00,  8.75s/it]\n"
     ]
    }
   ],
   "source": [
    "import os\n",
    "import pandas as pd\n",
    "from tqdm import tqdm\n",
    "\n",
    "folder_data22 = r\"C:\\Users\\maria\\Desktop\\Zeek_ML\\UWF-ZeekData22\"\n",
    "output_folder = r\"C:\\Users\\maria\\Desktop\\Zeek_ML\\processed_zeekdata22\\ZeekData22_chunks\"\n",
    "os.makedirs(output_folder, exist_ok=True)\n",
    "\n",
    "all_files = [f for f in os.listdir(folder_data22) if f.endswith(\".parquet\") or f.endswith(\".csv\")]\n",
    "\n",
    "for i, f in enumerate(tqdm(all_files, desc=\"Processing files\")):\n",
    "    file_path = os.path.join(folder_data22, f)\n",
    "    \n",
    "    # Caricamento file\n",
    "    if f.endswith(\".parquet\"):\n",
    "        df = pd.read_parquet(file_path)\n",
    "    else:\n",
    "        df = pd.read_csv(file_path)\n",
    "    \n",
    "    # =================\n",
    "    # Rimozione duplicati\n",
    "    # =================\n",
    "    df = df.drop_duplicates()\n",
    "    \n",
    "    # =================\n",
    "    # Imputazione valori mancanti\n",
    "    # =================\n",
    "    num_cols = df.select_dtypes(include=['int64','float64']).columns\n",
    "    cat_cols = df.select_dtypes(include=['object','category']).columns\n",
    "    \n",
    "    for col in num_cols:\n",
    "        if df[col].isna().any():\n",
    "            df[col].fillna(df[col].mean(), inplace=True)\n",
    "    for col in cat_cols:\n",
    "        if df[col].isna().any():\n",
    "            df[col].fillna(df[col].mode()[0] if not df[col].mode().empty else 'unknown', inplace=True)\n",
    "    \n",
    "    # =================\n",
    "    # Aggregazioni session-level se 'uid' presente\n",
    "    # =================\n",
    "    if 'uid' in df.columns:\n",
    "        session_features = df.groupby('uid').agg(\n",
    "            total_orig_bytes=('orig_bytes','sum'),\n",
    "            total_resp_bytes=('resp_bytes','sum'),\n",
    "            total_orig_pkts=('orig_pkts','sum'),\n",
    "            total_resp_pkts=('resp_pkts','sum'),\n",
    "            mean_duration=('duration','mean')\n",
    "        ).reset_index()\n",
    "        df = pd.merge(df, session_features, on='uid', how='left')\n",
    "    else:\n",
    "        df['uid'] = range(len(df))\n",
    "    \n",
    "    # =================\n",
    "    # Salvataggio file pulito in chunk\n",
    "    # =================\n",
    "    df.to_parquet(os.path.join(output_folder, f\"cleaned_{f.replace('.csv','.parquet')}\"), index=False)\n"
   ]
  },
  {
   "cell_type": "code",
   "execution_count": null,
   "id": "3be586a2",
   "metadata": {},
   "outputs": [],
   "source": []
  }
 ],
 "metadata": {
  "kernelspec": {
   "display_name": "zeek-ml",
   "language": "python",
   "name": "python3"
  },
  "language_info": {
   "codemirror_mode": {
    "name": "ipython",
    "version": 3
   },
   "file_extension": ".py",
   "mimetype": "text/x-python",
   "name": "python",
   "nbconvert_exporter": "python",
   "pygments_lexer": "ipython3",
   "version": "3.11.13"
  }
 },
 "nbformat": 4,
 "nbformat_minor": 5
}
